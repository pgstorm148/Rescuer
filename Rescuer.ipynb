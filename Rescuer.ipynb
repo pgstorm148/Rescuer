{
 "cells": [
  {
   "cell_type": "code",
   "execution_count": 9,
   "metadata": {},
   "outputs": [
    {
     "name": "stdout",
     "output_type": "stream",
     "text": [
      "Library name whose functions you want to find numpy\n",
      "Successfully stored data at 2020-06-19 23:08:19.288422 in file functions.txt search your pc for the following file\n"
     ]
    }
   ],
   "source": [
    "import datetime\n",
    "a = input(\"Library name whose functions you want to find \") \n",
    "#print(a)\n",
    "\n",
    "import importlib\n",
    "importlib.import_module(a)\n",
    "\n",
    "\n",
    "TimeNow = datetime.datetime.now()\n",
    "funcs = dir(importlib.import_module(a))\n",
    "for f in funcs:\n",
    "    with open('functions.txt','a') as fd:\n",
    "        fd.write(f\"{f } , \")\n",
    "print(f\"Successfully stored data at {TimeNow} in file functions.txt , search your pc for the following file\")\n",
    "\n",
    "\n",
    "    "
   ]
  },
  {
   "cell_type": "code",
   "execution_count": null,
   "metadata": {},
   "outputs": [],
   "source": []
  }
 ],
 "metadata": {
  "kernelspec": {
   "display_name": "Python 3",
   "language": "python",
   "name": "python3"
  },
  "language_info": {
   "codemirror_mode": {
    "name": "ipython",
    "version": 3
   },
   "file_extension": ".py",
   "mimetype": "text/x-python",
   "name": "python",
   "nbconvert_exporter": "python",
   "pygments_lexer": "ipython3",
   "version": "3.7.4"
  }
 },
 "nbformat": 4,
 "nbformat_minor": 2
}
